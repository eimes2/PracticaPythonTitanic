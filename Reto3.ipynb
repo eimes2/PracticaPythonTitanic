{
 "cells": [
  {
   "cell_type": "code",
   "execution_count": 2,
   "metadata": {},
   "outputs": [],
   "source": [
    "import pandas as pd\n",
    "import numpy as np\n",
    "from pandas import ExcelWriter\n",
    "from pandas import ExcelFile\n",
    "import ipywidgets as widgets\n",
    "from IPython import display\n",
    "import matplotlib.pyplot as plt"
   ]
  },
  {
   "cell_type": "code",
   "execution_count": 3,
   "metadata": {},
   "outputs": [],
   "source": [
    "table=pd.read_csv('Titanic.csv')"
   ]
  },
  {
   "cell_type": "code",
   "execution_count": 4,
   "metadata": {},
   "outputs": [],
   "source": [
    "#Rellenando las edades con la media del resto de edades\n",
    "media = table.Age.mean()\n",
    "tableCompleteData = table.fillna(value=media)\n",
    "#tableCompleteData"
   ]
  },
  {
   "cell_type": "code",
   "execution_count": 5,
   "metadata": {},
   "outputs": [],
   "source": [
    "#Número de sobrevivientes\n",
    "numberOfSurvivors = 0\n",
    "for index, row in table.iterrows():\n",
    "    if row.Survived == 1:\n",
    "        numberOfSurvivors += 1\n",
    "        \n",
    "#print('El número de sobrevivientes fue de:', numberOfSurvivors, 'personas')"
   ]
  },
  {
   "cell_type": "code",
   "execution_count": 6,
   "metadata": {},
   "outputs": [],
   "source": [
    "#Media de: edades, precio y ticketes\n",
    "MediaEdades = 0\n",
    "MediaPrecios = 0\n",
    "MediaTickets = 0\n",
    "numberOfPeole = table.Name.count()\n",
    "for index, row in tableCompleteData.iterrows():\n",
    "    MediaEdades  += row.Age  \n",
    "    MediaPrecios += row.Fare\n",
    "    MediaTickets += 1\n",
    "MediaEdades  = MediaEdades  / numberOfPeole\n",
    "MediaPrecios = MediaPrecios / numberOfPeole\n",
    "MediaTickets = MediaTickets / numberOfPeole\n",
    "\n",
    "#print('La media de edades es............:', MediaEdades)\n",
    "#print('La media de precios de ticktes es:', MediaPrecios)\n",
    "#print('La media de tickets es...........:', MediaTickets)"
   ]
  },
  {
   "cell_type": "code",
   "execution_count": 7,
   "metadata": {},
   "outputs": [],
   "source": [
    "#Mediana de: edades, precios y ticketes\n",
    "MedianaEdades  = tableCompleteData.sort_values(by=['Age'])\n",
    "MedianaPrecios = tableCompleteData.sort_values(by=['Fare'])\n",
    "MedianaTickets = tableCompleteData.sort_values(by=['Ticket'])\n",
    "if numberOfPeole % 2 == 0:\n",
    "    print('Soy una longitud par')\n",
    "else:\n",
    "    posicion = numberOfPeole - 1\n",
    "    posicion = (posicion/2) + 1\n",
    "    posicion\n",
    "  \n",
    "#print('La mediana de edades es.:', MedianaEdades.iloc[int(posicion)].Age)\n",
    "#print('La mediana de precios es:', MedianaPrecios.iloc[int(posicion)].Fare)\n",
    "#print('La mediana de tickets es:', MedianaTickets.iloc[int(posicion)].Ticket)"
   ]
  },
  {
   "cell_type": "code",
   "execution_count": 8,
   "metadata": {},
   "outputs": [],
   "source": [
    "#Moda de: edades, precios y tickets\n",
    "tempAge = 0\n",
    "tempFare = 0\n",
    "tempTicket = 0\n",
    "listaDeEdades = []\n",
    "listaDePrecios = []\n",
    "listaDeTicketes = []\n",
    "for index, row in tableCompleteData.iterrows():\n",
    "    tempAge = row.Age \n",
    "    tempFare = row.Fare\n",
    "    tempTicket = row.Ticket\n",
    "    listaDeEdades.append(tempAge)\n",
    "    listaDePrecios.append(tempFare)\n",
    "    listaDeTicketes.append(tempTicket)\n",
    "\n",
    "numeroDeVecesAge = 0\n",
    "listaEdadesRepetidas = {}\n",
    "for x in listaDeEdades:\n",
    "    numeroDeVecesAge = listaDeEdades.count(x)\n",
    "    listaEdadesRepetidas[x] = numeroDeVecesAge\n",
    "\n",
    "numeroDeVecesFare = 0\n",
    "listaPreciosRepetidos = {}  \n",
    "for x in listaDePrecios:\n",
    "    numeroDeVecesFare = listaDePrecios.count(x)\n",
    "    listaPreciosRepetidos[x] = numeroDeVecesFare\n",
    "\n",
    "numeroDeVecesTicket = 0\n",
    "listaTicketesRepetidos = {} \n",
    "for x in listaDeTicketes:\n",
    "    numeroDeVecesTicket = listaDeTicketes.count(x)\n",
    "    listaTicketesRepetidos[x] = numeroDeVecesTicket\n",
    "\n",
    "temporalAge = 1\n",
    "temporalEdad = 0\n",
    "for edad, numeroVeces in listaEdadesRepetidas.items():\n",
    "    if numeroVeces > temporalAge:\n",
    "        temporalAge = numeroVeces\n",
    "        temporalEdad = edad\n",
    "#print('La moda de las edades es..:', temporalEdad, 'se enuentra repetida:', temporalAge)\n",
    "\n",
    "temporalFare = 1\n",
    "temporalPrecios = 0\n",
    "for precio, numeroVeces in listaPreciosRepetidos.items():\n",
    "    if numeroVeces > temporalFare:\n",
    "        temporalFare = numeroVeces\n",
    "        temporalPrecios = precio\n",
    "#print('La moda de los precios es.:', temporalPrecios, 'se enuentra repetido:', temporalFare)\n",
    "\n",
    "temporalTicket = 1\n",
    "temporalticketes = 0\n",
    "for ticket, numeroVeces in listaPreciosRepetidos.items():\n",
    "    if numeroVeces > temporalTicket:\n",
    "        temporalTicket = numeroVeces\n",
    "        temporalticketes = ticket\n",
    "#print('La moda de los ticketes es:', temporalticketes, 'se enuentra repetido:', temporalTicket)"
   ]
  },
  {
   "cell_type": "code",
   "execution_count": 9,
   "metadata": {},
   "outputs": [],
   "source": [
    "#Varianza de edades y precios\n",
    "exponencialEdad = 0\n",
    "exponencialPrecio = 0\n",
    "edad = 0\n",
    "precio = 0\n",
    "varianzaEdades = 0\n",
    "varianzaPrecios = 0\n",
    "for index, row in tableCompleteData.iterrows():\n",
    "    edad = row.Age\n",
    "    precio = row.Fare\n",
    "    exponencialEdad += (edad * edad)\n",
    "    exponencialPrecio += (precio * precio)\n",
    "varianzaEdades = (exponencialEdad/numberOfPeole) - (MediaEdades * MediaEdades)\n",
    "varianzaPrecios = (exponencialPrecio/numberOfPeole) - (MediaPrecios * MediaPrecios)\n",
    "#print('La varianza de las edades es:', varianzaEdades)\n",
    "#print('La varianza de precios es...:', varianzaPrecios)\n"
   ]
  },
  {
   "cell_type": "code",
   "execution_count": 10,
   "metadata": {},
   "outputs": [],
   "source": [
    "#Número de hombres y mujeres\n",
    "countFemale = 0\n",
    "countMale = 0\n",
    "for index, row in tableCompleteData.iterrows():\n",
    "    if row.Sex == 'female':\n",
    "        countFemale += 1\n",
    "    else:\n",
    "        countMale += 1\n",
    "#print('El numero de mujeres que abordaron el titanic fue de:', countFemale, 'y de hombres fue de:', countMale)    "
   ]
  },
  {
   "cell_type": "code",
   "execution_count": 44,
   "metadata": {},
   "outputs": [],
   "source": [
    "#Que relación existe con los que murieron con respecto a la edad y clase social\n",
    "survived = tableCompleteData.loc[tableCompleteData.Survived == 0]\n",
    "survivedPclass1 = widgets.Output()\n",
    "survivedPclass2 = widgets.Output()\n",
    "survivedPclass3 = widgets.Output()\n",
    "estrato1 = survived.loc[survived.Pclass == 1]\n",
    "estrato2 = survived.loc[survived.Pclass == 2]\n",
    "estrato3 = survived.loc[survived.Pclass == 3]\n",
    "with survivedPclass1:\n",
    "    display.display(estrato1[['Age','Pclass']])\n",
    "with survivedPclass2:\n",
    "    display.display(estrato2[['Age','Pclass']])\n",
    "with survivedPclass3:\n",
    "    display.display(estrato3[['Age','Pclass']])\n",
    "tablas = widgets.HBox([survivedPclass1, survivedPclass2, survivedPclass3])\n",
    "\n",
    "#tablas"
   ]
  },
  {
   "cell_type": "code",
   "execution_count": 12,
   "metadata": {},
   "outputs": [],
   "source": [
    "#Promedio de las edades según el estrato\n",
    "promedioEdadesEstrato1 = 0\n",
    "for index, row in estrato1.iterrows():\n",
    "    promedioEdadesEstrato1 += row.Age\n",
    "promedioEdadesEstrato1 = promedioEdadesEstrato1 / len(estrato1)\n",
    "\n",
    "promedioEdadesEstrato2 = 0\n",
    "for index, row in estrato2.iterrows():\n",
    "    promedioEdadesEstrato2 += row.Age\n",
    "promedioEdadesEstrato2 = promedioEdadesEstrato2 / len(estrato2)\n",
    "    \n",
    "promedioEdadesEstrato3 = 0\n",
    "for index, row in estrato3.iterrows():\n",
    "    promedioEdadesEstrato3 += row.Age\n",
    "promedioEdadesEstrato3 = promedioEdadesEstrato3 / len(estrato3)\n",
    "\n",
    "#print('El promedio de edades para la clase social 1 es:', promedioEdadesEstrato1)\n",
    "#print('El promedio de edades para la clase social 2 es:', promedioEdadesEstrato2)\n",
    "#print('El promedio de edades para la clase social 3 es:', promedioEdadesEstrato3)"
   ]
  },
  {
   "cell_type": "code",
   "execution_count": 47,
   "metadata": {},
   "outputs": [
    {
     "data": {
      "image/png": "[encoded data removed]",
      "text/plain": [
       "<Figure size 1440x360 with 2 Axes>"
      ]
     },
     "metadata": {
      "needs_background": "light"
     },
     "output_type": "display_data"
    }
   ],
   "source": [
    "#Gráficos sobre las personas que murieron con respecto a la edad y clase social\n",
    "#bar, scatter, plot\n",
    "pclass = ['Clase1', 'Clase2', 'Clase3']\n",
    "valuesPclass= [len(estrato1), len(estrato2), len(estrato3)]\n",
    "averageAge = ['Clase1', 'Clase2', 'Clase3']\n",
    "valuesAverageAge= [promedioEdadesEstrato1, promedioEdadesEstrato2, promedioEdadesEstrato3]\n",
    "plt.figure(figsize=(20, 5))\n",
    "plt.subplot(131)\n",
    "plt.bar(pclass, valuesPclass)\n",
    "plt.ylabel('Número de fallecidos')\n",
    "plt.xlabel('Clases sociales')\n",
    "plt.subplot(132)\n",
    "plt.bar(averageAge, valuesAverageAge)\n",
    "plt.ylabel('Número de fallecidos')\n",
    "plt.xlabel('Promedio de edades segun clase social')\n",
    "plt.suptitle('Número de personas fallecias según la clase social y promedio de edades')\n",
    "plt.show()"
   ]
  }
 ],
 "metadata": {
  "kernelspec": {
   "display_name": "Python 3",
   "language": "python",
   "name": "python3"
  },
  "language_info": {
   "codemirror_mode": {
    "name": "ipython",
    "version": 3
   },
   "file_extension": ".py",
   "mimetype": "text/x-python",
   "name": "python",
   "nbconvert_exporter": "python",
   "pygments_lexer": "ipython3",
   "version": "3.7.3"
  }
 },
 "nbformat": 4,
 "nbformat_minor": 2
}
