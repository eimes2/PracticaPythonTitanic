{
 "cells": [
  {
   "cell_type": "code",
   "execution_count": 21,
   "metadata": {},
   "outputs": [],
   "source": [
    "import pandas as pd\n",
    "import numpy as np\n",
    "from pandas import ExcelWriter\n",
    "from pandas import ExcelFile\n",
    "import ipywidgets as widgets\n",
    "from IPython import display\n",
    "import matplotlib.pyplot as plt"
   ]
  },
  {
   "cell_type": "code",
   "execution_count": 22,
   "metadata": {},
   "outputs": [],
   "source": [
    "table=pd.read_csv('Titanic.csv')"
   ]
  },
  {
   "cell_type": "code",
   "execution_count": 23,
   "metadata": {},
   "outputs": [],
   "source": [
    "#Rellenando las edades con la media del resto de edades\n",
    "mediana = table.Age.median()\n",
    "tableCompleteData = table.fillna(value=mediana)\n",
    "#tableCompleteData"
   ]
  },
  {
   "cell_type": "code",
   "execution_count": 38,
   "metadata": {},
   "outputs": [
    {
     "name": "stdout",
     "output_type": "stream",
     "text": [
      "El número de sobrevivientes fue de: 342 personas\n"
     ]
    }
   ],
   "source": [
    "#Número de sobrevivientes\n",
    "numberOfSurvivors = 0\n",
    "numberOfSurvivors = table.loc[tableCompleteData.Survived == 1]       \n",
    "print('El número de sobrevivientes fue de:', len(numberOfSurvivors), 'personas')"
   ]
  },
  {
   "cell_type": "code",
   "execution_count": 37,
   "metadata": {},
   "outputs": [
    {
     "name": "stdout",
     "output_type": "stream",
     "text": [
      "La media de edades es............: 29.36158249158249\n",
      "La media de precios de ticktes es: 32.204207968574636\n"
     ]
    }
   ],
   "source": [
    "#Media de: edades, precio y ticketes\n",
    "print('La media de edades es............:', tableCompleteData.Age.mean())\n",
    "print('La media de precios de ticktes es:', tableCompleteData.Fare.mean())"
   ]
  },
  {
   "cell_type": "code",
   "execution_count": 41,
   "metadata": {},
   "outputs": [
    {
     "name": "stdout",
     "output_type": "stream",
     "text": [
      "La mediana de edades es.: 28.0\n",
      "La mediana de precios es: 14.4542\n"
     ]
    }
   ],
   "source": [
    "#Mediana de: edades, precios y ticketes\n",
    "print('La mediana de edades es.:',tableCompleteData.Age.median())\n",
    "print('La mediana de precios es:', tableCompleteData.Fare.median())\n",
    "#print('La mediana de tickets es:', tableCompleteData.Ticket.median())"
   ]
  },
  {
   "cell_type": "code",
   "execution_count": 48,
   "metadata": {},
   "outputs": [
    {
     "name": "stdout",
     "output_type": "stream",
     "text": [
      "La moda de las edades es: 0    28.0\n",
      "dtype: float64\n",
      "La moda de los precios es: 0    8.05\n",
      "dtype: float64\n",
      "La moda de los ticktes es: 0        1601\n",
      "1      347082\n",
      "2    CA. 2343\n",
      "dtype: object\n"
     ]
    }
   ],
   "source": [
    "#Moda de: edades, precios y tickets\n",
    "print('La moda de las edades es:', tableCompleteData.Age.mode())\n",
    "print('La moda de los precios es:', tableCompleteData.Fare.mode())\n",
    "print('La moda de los ticktes es:', tableCompleteData.Ticket.mode())"
   ]
  },
  {
   "cell_type": "code",
   "execution_count": 50,
   "metadata": {},
   "outputs": [
    {
     "name": "stdout",
     "output_type": "stream",
     "text": [
      "La varianza de las edades es: 169.51249827942345\n",
      "La varianza de precios es...: 2469.436845743116\n"
     ]
    }
   ],
   "source": [
    "#Varianza de edades y precios\n",
    "print('La varianza de las edades es:', tableCompleteData.Age.var())\n",
    "print('La varianza de precios es...:', tableCompleteData.Fare.var())"
   ]
  },
  {
   "cell_type": "code",
   "execution_count": 58,
   "metadata": {},
   "outputs": [
    {
     "name": "stdout",
     "output_type": "stream",
     "text": [
      "El numero de mujeres que abordaron el titanic fue de: 314\n",
      "El numero de hombres que abordaron el titanic fue de: 577\n"
     ]
    }
   ],
   "source": [
    "#Número de hombres y mujeres\n",
    "print('El numero de mujeres que abordaron el titanic fue de:', len(tableCompleteData.loc[tableCompleteData.Sex == 'female']))\n",
    "print('El numero de hombres que abordaron el titanic fue de:', len(tableCompleteData.loc[tableCompleteData.Sex == 'male']))"
   ]
  },
  {
   "cell_type": "code",
   "execution_count": 65,
   "metadata": {},
   "outputs": [],
   "source": [
    "#Que relación existe con los que murieron con respecto a la edad y clase social\n",
    "survived = tableCompleteData.loc[tableCompleteData.Survived == 0]\n",
    "survivedPclass1 = widgets.Output()\n",
    "survivedPclass2 = widgets.Output()\n",
    "survivedPclass3 = widgets.Output()\n",
    "estrato1 = survived.loc[survived.Pclass == 1]\n",
    "estrato2 = survived.loc[survived.Pclass == 2]\n",
    "estrato3 = survived.loc[survived.Pclass == 3]\n",
    "with survivedPclass1:\n",
    "    display.display(estrato1[['Age','Pclass']])\n",
    "with survivedPclass2:\n",
    "    display.display(estrato2[['Age','Pclass']])\n",
    "with survivedPclass3:\n",
    "    display.display(estrato3[['Age','Pclass']])\n",
    "tablas = widgets.HBox([survivedPclass1, survivedPclass2, survivedPclass3])\n",
    "\n",
    "#tablas"
   ]
  },
  {
   "cell_type": "code",
   "execution_count": 85,
   "metadata": {},
   "outputs": [
    {
     "name": "stdout",
     "output_type": "stream",
     "text": [
      "El promedio de edades para la clase social 1 es: 40.55625\n",
      "El promedio de edades para la clase social 2 es: 33.144329896907216\n",
      "El promedio de edades para la clase social 3 es: 26.951612903225808\n"
     ]
    }
   ],
   "source": [
    "#Promedio de las edades según el estrato\n",
    "pclass1 = tableCompleteData.loc[tableCompleteData.Survived == 0].loc[tableCompleteData.Pclass == 1]\n",
    "pclass2 = tableCompleteData.loc[tableCompleteData.Survived == 0].loc[tableCompleteData.Pclass == 2]\n",
    "pclass3 = tableCompleteData.loc[tableCompleteData.Survived == 0].loc[tableCompleteData.Pclass == 3]\n",
    "print('El promedio de edades para la clase social 1 es:', pclass1.Age.mean())\n",
    "print('El promedio de edades para la clase social 2 es:', pclass2.Age.mean())\n",
    "print('El promedio de edades para la clase social 3 es:', pclass3.Age.mean())"
   ]
  },
  {
   "cell_type": "code",
   "execution_count": 88,
   "metadata": {},
   "outputs": [
    {
     "data": {
      "image/png": "[encoded data removed]",
      "text/plain": [
       "<Figure size 1440x360 with 2 Axes>"
      ]
     },
     "metadata": {
      "needs_background": "light"
     },
     "output_type": "display_data"
    }
   ],
   "source": [
    "#Gráficos sobre las personas que murieron con respecto a la edad y clase social\n",
    "#bar, scatter, plot\n",
    "pclass = ['Clase1', 'Clase2', 'Clase3']\n",
    "valuesPclass= [len(pclass1), len(pclass2), len(pclass3)]\n",
    "averageAge = ['Clase1', 'Clase2', 'Clase3']\n",
    "valuesAverageAge= [pclass1.Age.mean(), pclass2.Age.mean(), pclass3.Age.mean()]\n",
    "plt.figure(figsize=(20, 5))\n",
    "plt.subplot(131)\n",
    "plt.bar(pclass, valuesPclass)\n",
    "plt.ylabel('Número de fallecidos')\n",
    "plt.xlabel('Clases sociales')\n",
    "plt.subplot(132)\n",
    "plt.bar(averageAge, valuesAverageAge)\n",
    "plt.ylabel('Edades según la clase social')\n",
    "plt.xlabel('Promedio de edades segun clase social')\n",
    "plt.suptitle('Número de personas fallecias según la clase social y promedio de edades')\n",
    "plt.show()"
   ]
  },
  {
   "cell_type": "code",
   "execution_count": null,
   "metadata": {},
   "outputs": [],
   "source": []
  }
 ],
 "metadata": {
  "kernelspec": {
   "display_name": "Python 3",
   "language": "python",
   "name": "python3"
  },
  "language_info": {
   "codemirror_mode": {
    "name": "ipython",
    "version": 3
   },
   "file_extension": ".py",
   "mimetype": "text/x-python",
   "name": "python",
   "nbconvert_exporter": "python",
   "pygments_lexer": "ipython3",
   "version": "3.7.3"
  }
 },
 "nbformat": 4,
 "nbformat_minor": 2
}
